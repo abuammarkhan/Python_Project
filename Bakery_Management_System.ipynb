{
 "cells": [
  {
   "cell_type": "code",
   "execution_count": 17,
   "id": "374390ad-009f-40fd-a792-aa8c51d088c5",
   "metadata": {},
   "outputs": [],
   "source": [
    "#pip install xlsxwriter\n"
   ]
  },
  {
   "cell_type": "code",
   "execution_count": 4,
   "id": "1ade6ae6-b265-4e24-9a40-4bc5721a90bd",
   "metadata": {},
   "outputs": [
    {
     "name": "stdout",
     "output_type": "stream",
     "text": [
      "\n",
      "Bakery Management System:\n",
      "1. Add Your Order\n",
      "2. View Order\n",
      "3. Update Order\n",
      "4. Export Orders \n",
      "5. Exit\n"
     ]
    },
    {
     "name": "stdin",
     "output_type": "stream",
     "text": [
      "Enter your choice (1-5):  1\n",
      "Enter your name:  Abu Ammar Khan\n",
      "Enter your contact no:  7839081072\n",
      "Enter cake name:  Choclate coconut cake\n",
      "Enter quantity:  10\n"
     ]
    },
    {
     "name": "stdout",
     "output_type": "stream",
     "text": [
      "Order #1 added successfully!\n",
      "\n",
      "Bakery Management System:\n",
      "1. Add Your Order\n",
      "2. View Order\n",
      "3. Update Order\n",
      "4. Export Orders \n",
      "5. Exit\n"
     ]
    },
    {
     "name": "stdin",
     "output_type": "stream",
     "text": [
      "Enter your choice (1-5):  2\n",
      "Enter Order ID to view details:  1\n"
     ]
    },
    {
     "name": "stdout",
     "output_type": "stream",
     "text": [
      "  Order_ID   Customer_Name  Contact_No                   Item Quantity  \\\n",
      "0        1  Abu Ammar Khan  7839081072  Choclate coconut cake       10   \n",
      "\n",
      "            Order_Date  \n",
      "0  2024-03-01 16:25:13  \n",
      "\n",
      "Bakery Management System:\n",
      "1. Add Your Order\n",
      "2. View Order\n",
      "3. Update Order\n",
      "4. Export Orders \n",
      "5. Exit\n"
     ]
    },
    {
     "name": "stdin",
     "output_type": "stream",
     "text": [
      "Enter your choice (1-5):  3\n",
      "Enter Order ID to update:  1\n",
      "Enter new quantity:  20\n"
     ]
    },
    {
     "name": "stdout",
     "output_type": "stream",
     "text": [
      "Order #1 updated successfully!\n",
      "\n",
      "Bakery Management System:\n",
      "1. Add Your Order\n",
      "2. View Order\n",
      "3. Update Order\n",
      "4. Export Orders \n",
      "5. Exit\n"
     ]
    },
    {
     "name": "stdin",
     "output_type": "stream",
     "text": [
      "Enter your choice (1-5):  2\n",
      "Enter Order ID to view details:  1\n"
     ]
    },
    {
     "name": "stdout",
     "output_type": "stream",
     "text": [
      "  Order_ID   Customer_Name  Contact_No                   Item Quantity  \\\n",
      "0        1  Abu Ammar Khan  7839081072  Choclate coconut cake       20   \n",
      "\n",
      "            Order_Date  \n",
      "0  2024-03-01 16:25:13  \n",
      "\n",
      "Bakery Management System:\n",
      "1. Add Your Order\n",
      "2. View Order\n",
      "3. Update Order\n",
      "4. Export Orders \n",
      "5. Exit\n"
     ]
    },
    {
     "name": "stdin",
     "output_type": "stream",
     "text": [
      "Enter your choice (1-5):  4\n"
     ]
    },
    {
     "name": "stdout",
     "output_type": "stream",
     "text": [
      "Orders exported to Excel successfully!\n",
      "\n",
      "Bakery Management System:\n",
      "1. Add Your Order\n",
      "2. View Order\n",
      "3. Update Order\n",
      "4. Export Orders \n",
      "5. Exit\n"
     ]
    },
    {
     "name": "stdin",
     "output_type": "stream",
     "text": [
      "Enter your choice (1-5):  5\n"
     ]
    },
    {
     "name": "stdout",
     "output_type": "stream",
     "text": [
      "Thanks visiting our bakery. Goodbye!\n"
     ]
    }
   ],
   "source": [
    "import pandas as pd\n",
    "from datetime import datetime\n",
    "import xlsxwriter\n",
    "\n",
    "class BakeryManagementSystem:\n",
    "    def __init__(self):\n",
    "        self.orders = pd.DataFrame(columns=['Order_ID', 'Customer_Name', 'Contact_No', 'Item', 'Quantity', 'Order_Date'])\n",
    "\n",
    "    def add_order(self, customer_name, contact_no, item, quantity):\n",
    "        order_id = len(self.orders) + 1\n",
    "        order_date = datetime.now().strftime(\"%Y-%m-%d %H:%M:%S\")\n",
    "        new_order = pd.DataFrame([[order_id, customer_name, contact_no, item, quantity, order_date]],\n",
    "                                 columns=['Order_ID', 'Customer_Name', 'Contact_No', 'Item', 'Quantity', 'Order_Date'])\n",
    "        self.orders = pd.concat([self.orders, new_order], ignore_index=True)\n",
    "        print(f\"Order #{order_id} added successfully!\")\n",
    "\n",
    "    def view_order(self, order_id):\n",
    "        order_details = self.orders[self.orders['Order_ID'] == order_id]\n",
    "        if not order_details.empty:\n",
    "            print(order_details)\n",
    "        else:\n",
    "            print(f\"No order found with Order ID {order_id}.\")\n",
    "\n",
    "    def update_order(self, order_id, new_quantity):\n",
    "        if order_id in self.orders['Order_ID'].values:\n",
    "            self.orders.loc[self.orders['Order_ID'] == order_id, 'Quantity'] = new_quantity\n",
    "            print(f\"Order #{order_id} updated successfully!\")\n",
    "        else:\n",
    "            print(f\"No order found with Order ID {order_id}.\")\n",
    "\n",
    "    def export_to_excel(self, filename='orders.xlsx'):\n",
    "        with pd.ExcelWriter(filename, engine='xlsxwriter') as writer:\n",
    "            self.orders.to_excel(writer, sheet_name='Orders', index=False)\n",
    "\n",
    "if __name__ == \"__main__\":\n",
    "    bakery_system = BakeryManagementSystem()\n",
    "\n",
    "    while True:\n",
    "        print(\"\\nBakery Management System:\")\n",
    "        print(\"1. Add Your Order\")\n",
    "        print(\"2. View Order\")\n",
    "        print(\"3. Update Order\")\n",
    "        print(\"4. Export Orders \")\n",
    "        print(\"5. Exit\")\n",
    "\n",
    "        choice = input(\"Enter your choice (1-5): \")\n",
    "\n",
    "        if choice == '1':\n",
    "            customer_name = input(\"Enter your name: \")\n",
    "            contact_no= int(input(\"Enter your contact no: \"))\n",
    "            item = input(\"Enter cake name: \")\n",
    "            quantity = int(input(\"Enter quantity: \"))\n",
    "            bakery_system.add_order(customer_name, contact_no, item, quantity)\n",
    "\n",
    "        elif choice == '2':\n",
    "            order_id = int(input(\"Enter Order ID to view details: \"))\n",
    "            bakery_system.view_order(order_id)\n",
    "\n",
    "        \n",
    "        elif choice == '3':\n",
    "            order_id = int(input(\"Enter Order ID to update: \"))\n",
    "            new_quantity = int(input(\"Enter new quantity: \"))\n",
    "            bakery_system.update_order(order_id, new_quantity)\n",
    "\n",
    "        elif choice == '4':\n",
    "            bakery_system.export_to_excel()\n",
    "            print(\"Orders exported to Excel successfully!\")\n",
    "\n",
    "        elif choice == '5':\n",
    "            print(\"Thanks visiting our bakery. Goodbye!\")\n",
    "            break\n",
    "\n",
    "        else:\n",
    "            print(\"Sorry..... please choose valid option.\")\n"
   ]
  },
  {
   "cell_type": "code",
   "execution_count": null,
   "id": "35b8942d-085a-477e-80ce-1af4c3228ded",
   "metadata": {},
   "outputs": [],
   "source": [
    "\n"
   ]
  },
  {
   "cell_type": "code",
   "execution_count": null,
   "id": "ac49b3bf-cc14-42d9-b561-e59190f2cfd3",
   "metadata": {},
   "outputs": [],
   "source": []
  }
 ],
 "metadata": {
  "kernelspec": {
   "display_name": "Python 3 (ipykernel)",
   "language": "python",
   "name": "python3"
  },
  "language_info": {
   "codemirror_mode": {
    "name": "ipython",
    "version": 3
   },
   "file_extension": ".py",
   "mimetype": "text/x-python",
   "name": "python",
   "nbconvert_exporter": "python",
   "pygments_lexer": "ipython3",
   "version": "3.11.4"
  }
 },
 "nbformat": 4,
 "nbformat_minor": 5
}
